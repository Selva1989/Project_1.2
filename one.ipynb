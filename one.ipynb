{
 "cells": [
  {
   "cell_type": "markdown",
   "id": "e54706a3-7e5a-4094-b706-4038ca46438f",
   "metadata": {},
   "source": [
    "## Task 1\n",
    "Calculate for each name in yob2000.txt its percentage of total births. Store this percentage as an additional column."
   ]
  },
  {
   "cell_type": "code",
   "execution_count": null,
   "id": "7d1723e5-300d-49d8-a18e-f5067e9daa6b",
   "metadata": {},
   "outputs": [],
   "source": [
    "import pandas as pd"
   ]
  },
  {
   "cell_type": "code",
   "execution_count": 109,
   "id": "30d64b4b-4a4b-4e4f-9a49-4af2b3f0dd60",
   "metadata": {},
   "outputs": [
    {
     "data": {
      "text/html": [
       "<div>\n",
       "<style scoped>\n",
       "    .dataframe tbody tr th:only-of-type {\n",
       "        vertical-align: middle;\n",
       "    }\n",
       "\n",
       "    .dataframe tbody tr th {\n",
       "        vertical-align: top;\n",
       "    }\n",
       "\n",
       "    .dataframe thead th {\n",
       "        text-align: right;\n",
       "    }\n",
       "</style>\n",
       "<table border=\"1\" class=\"dataframe\">\n",
       "  <thead>\n",
       "    <tr style=\"text-align: right;\">\n",
       "      <th></th>\n",
       "      <th>Name</th>\n",
       "      <th>Gender</th>\n",
       "      <th>Count</th>\n",
       "      <th>Percentage</th>\n",
       "    </tr>\n",
       "  </thead>\n",
       "  <tbody>\n",
       "    <tr>\n",
       "      <th>0</th>\n",
       "      <td>Emily</td>\n",
       "      <td>F</td>\n",
       "      <td>25957</td>\n",
       "      <td>0.686806</td>\n",
       "    </tr>\n",
       "    <tr>\n",
       "      <th>1</th>\n",
       "      <td>Hannah</td>\n",
       "      <td>F</td>\n",
       "      <td>23085</td>\n",
       "      <td>0.610814</td>\n",
       "    </tr>\n",
       "    <tr>\n",
       "      <th>2</th>\n",
       "      <td>Madison</td>\n",
       "      <td>F</td>\n",
       "      <td>19968</td>\n",
       "      <td>0.528341</td>\n",
       "    </tr>\n",
       "    <tr>\n",
       "      <th>3</th>\n",
       "      <td>Ashley</td>\n",
       "      <td>F</td>\n",
       "      <td>17997</td>\n",
       "      <td>0.476189</td>\n",
       "    </tr>\n",
       "    <tr>\n",
       "      <th>4</th>\n",
       "      <td>Sarah</td>\n",
       "      <td>F</td>\n",
       "      <td>17708</td>\n",
       "      <td>0.468542</td>\n",
       "    </tr>\n",
       "    <tr>\n",
       "      <th>...</th>\n",
       "      <td>...</td>\n",
       "      <td>...</td>\n",
       "      <td>...</td>\n",
       "      <td>...</td>\n",
       "    </tr>\n",
       "    <tr>\n",
       "      <th>29771</th>\n",
       "      <td>Zeph</td>\n",
       "      <td>M</td>\n",
       "      <td>5</td>\n",
       "      <td>0.000132</td>\n",
       "    </tr>\n",
       "    <tr>\n",
       "      <th>29772</th>\n",
       "      <td>Zeven</td>\n",
       "      <td>M</td>\n",
       "      <td>5</td>\n",
       "      <td>0.000132</td>\n",
       "    </tr>\n",
       "    <tr>\n",
       "      <th>29773</th>\n",
       "      <td>Ziggy</td>\n",
       "      <td>M</td>\n",
       "      <td>5</td>\n",
       "      <td>0.000132</td>\n",
       "    </tr>\n",
       "    <tr>\n",
       "      <th>29774</th>\n",
       "      <td>Zo</td>\n",
       "      <td>M</td>\n",
       "      <td>5</td>\n",
       "      <td>0.000132</td>\n",
       "    </tr>\n",
       "    <tr>\n",
       "      <th>29775</th>\n",
       "      <td>Zyier</td>\n",
       "      <td>M</td>\n",
       "      <td>5</td>\n",
       "      <td>0.000132</td>\n",
       "    </tr>\n",
       "  </tbody>\n",
       "</table>\n",
       "<p>29776 rows × 4 columns</p>\n",
       "</div>"
      ],
      "text/plain": [
       "          Name Gender  Count  Percentage\n",
       "0        Emily      F  25957    0.686806\n",
       "1       Hannah      F  23085    0.610814\n",
       "2      Madison      F  19968    0.528341\n",
       "3       Ashley      F  17997    0.476189\n",
       "4        Sarah      F  17708    0.468542\n",
       "...        ...    ...    ...         ...\n",
       "29771     Zeph      M      5    0.000132\n",
       "29772    Zeven      M      5    0.000132\n",
       "29773    Ziggy      M      5    0.000132\n",
       "29774       Zo      M      5    0.000132\n",
       "29775    Zyier      M      5    0.000132\n",
       "\n",
       "[29776 rows x 4 columns]"
      ]
     },
     "execution_count": 109,
     "metadata": {},
     "output_type": "execute_result"
    }
   ],
   "source": [
    "df= pd.read_csv('/Users/selva/Documents/DS_Proj_1.2/names/yob2000.txt', names=['Name', 'Gender', 'Count'])\n",
    "Total_births = df['Count'].sum()\n",
    "df['Percentage']=df['Count']/Total_births * 100\n",
    "df"
   ]
  },
  {
   "cell_type": "markdown",
   "id": "a68ef8f3-e1c7-45c5-9ded-0447a386a9d7",
   "metadata": {},
   "source": [
    "## Task 2\n",
    "Read all files yob1880.txt, yob1881.txt ... yob2021.txt. Add an extra column for the year. Concatenate them into a single data structure."
   ]
  },
  {
   "cell_type": "code",
   "execution_count": 116,
   "id": "23f7f2b8-1225-4262-afee-e9b75fd14afe",
   "metadata": {},
   "outputs": [
    {
     "data": {
      "text/html": [
       "<div>\n",
       "<style scoped>\n",
       "    .dataframe tbody tr th:only-of-type {\n",
       "        vertical-align: middle;\n",
       "    }\n",
       "\n",
       "    .dataframe tbody tr th {\n",
       "        vertical-align: top;\n",
       "    }\n",
       "\n",
       "    .dataframe thead th {\n",
       "        text-align: right;\n",
       "    }\n",
       "</style>\n",
       "<table border=\"1\" class=\"dataframe\">\n",
       "  <thead>\n",
       "    <tr style=\"text-align: right;\">\n",
       "      <th></th>\n",
       "      <th>Name</th>\n",
       "      <th>Gender</th>\n",
       "      <th>Count</th>\n",
       "      <th>Year</th>\n",
       "    </tr>\n",
       "  </thead>\n",
       "  <tbody>\n",
       "    <tr>\n",
       "      <th>0</th>\n",
       "      <td>Emily</td>\n",
       "      <td>F</td>\n",
       "      <td>25957</td>\n",
       "      <td>2000</td>\n",
       "    </tr>\n",
       "    <tr>\n",
       "      <th>1</th>\n",
       "      <td>Hannah</td>\n",
       "      <td>F</td>\n",
       "      <td>23085</td>\n",
       "      <td>2000</td>\n",
       "    </tr>\n",
       "    <tr>\n",
       "      <th>2</th>\n",
       "      <td>Madison</td>\n",
       "      <td>F</td>\n",
       "      <td>19968</td>\n",
       "      <td>2000</td>\n",
       "    </tr>\n",
       "    <tr>\n",
       "      <th>3</th>\n",
       "      <td>Ashley</td>\n",
       "      <td>F</td>\n",
       "      <td>17997</td>\n",
       "      <td>2000</td>\n",
       "    </tr>\n",
       "    <tr>\n",
       "      <th>4</th>\n",
       "      <td>Sarah</td>\n",
       "      <td>F</td>\n",
       "      <td>17708</td>\n",
       "      <td>2000</td>\n",
       "    </tr>\n",
       "    <tr>\n",
       "      <th>...</th>\n",
       "      <td>...</td>\n",
       "      <td>...</td>\n",
       "      <td>...</td>\n",
       "      <td>...</td>\n",
       "    </tr>\n",
       "    <tr>\n",
       "      <th>32068</th>\n",
       "      <td>Zyheem</td>\n",
       "      <td>M</td>\n",
       "      <td>5</td>\n",
       "      <td>2019</td>\n",
       "    </tr>\n",
       "    <tr>\n",
       "      <th>32069</th>\n",
       "      <td>Zykel</td>\n",
       "      <td>M</td>\n",
       "      <td>5</td>\n",
       "      <td>2019</td>\n",
       "    </tr>\n",
       "    <tr>\n",
       "      <th>32070</th>\n",
       "      <td>Zyking</td>\n",
       "      <td>M</td>\n",
       "      <td>5</td>\n",
       "      <td>2019</td>\n",
       "    </tr>\n",
       "    <tr>\n",
       "      <th>32071</th>\n",
       "      <td>Zyn</td>\n",
       "      <td>M</td>\n",
       "      <td>5</td>\n",
       "      <td>2019</td>\n",
       "    </tr>\n",
       "    <tr>\n",
       "      <th>32072</th>\n",
       "      <td>Zyran</td>\n",
       "      <td>M</td>\n",
       "      <td>5</td>\n",
       "      <td>2019</td>\n",
       "    </tr>\n",
       "  </tbody>\n",
       "</table>\n",
       "<p>2052781 rows × 4 columns</p>\n",
       "</div>"
      ],
      "text/plain": [
       "          Name Gender  Count  Year\n",
       "0        Emily      F  25957  2000\n",
       "1       Hannah      F  23085  2000\n",
       "2      Madison      F  19968  2000\n",
       "3       Ashley      F  17997  2000\n",
       "4        Sarah      F  17708  2000\n",
       "...        ...    ...    ...   ...\n",
       "32068   Zyheem      M      5  2019\n",
       "32069    Zykel      M      5  2019\n",
       "32070   Zyking      M      5  2019\n",
       "32071      Zyn      M      5  2019\n",
       "32072    Zyran      M      5  2019\n",
       "\n",
       "[2052781 rows x 4 columns]"
      ]
     },
     "execution_count": 116,
     "metadata": {},
     "output_type": "execute_result"
    }
   ],
   "source": [
    "import os\n",
    "import glob\n",
    "path=os.getcwd()\n",
    "csv_files=glob.glob(os.path.join('names','*.txt'))\n",
    "files=[]\n",
    "for f in csv_files:\n",
    "    #read the txt file\n",
    "    df=pd.read_csv(f,names=['Name','Gender','Count'])\n",
    "    df['Year']=int(f[9:13])\n",
    "    files.append(df)\n",
    "concated=pd.concat(files)\n",
    "concated"
   ]
  },
  {
   "cell_type": "markdown",
   "id": "56cdc71a-1a1e-409c-bb79-20ffa9d94aaa",
   "metadata": {},
   "source": [
    "## Task 3\n",
    "Calculate the total number of births for each year. Visualize the timeline as a line plot."
   ]
  },
  {
   "cell_type": "code",
   "execution_count": 210,
   "id": "354f83eb-fc10-45f7-b0f6-39b604731e92",
   "metadata": {},
   "outputs": [
    {
     "data": {
      "text/plain": [
       "Year\n",
       "1880     201484\n",
       "1881     192690\n",
       "1882     221533\n",
       "1883     216944\n",
       "1884     243461\n",
       "         ...   \n",
       "2017    3570234\n",
       "2018    3508655\n",
       "2019    3461444\n",
       "2020    3327419\n",
       "2021    3361375\n",
       "Name: Count, Length: 142, dtype: int64"
      ]
     },
     "execution_count": 210,
     "metadata": {},
     "output_type": "execute_result"
    }
   ],
   "source": [
    "import matplotlib.pyplot as plt\n",
    "%matplotlib inline\n",
    "total_birth = concated.groupby('Year')['Count'].sum()\n",
    "total_birth"
   ]
  },
  {
   "cell_type": "code",
   "execution_count": 233,
   "id": "fcdb9d83-808e-4841-9c6e-cb0b8edcbb9a",
   "metadata": {},
   "outputs": [
    {
     "data": {
      "text/plain": [
       "Text(0.5, 1.0, 'Total number of births for each Year')"
      ]
     },
     "execution_count": 233,
     "metadata": {},
     "output_type": "execute_result"
    },
    {
     "data": {
      "image/png": "[encoded data removed]",
      "text/plain": [
       "<Figure size 720x504 with 1 Axes>"
      ]
     },
     "metadata": {
      "needs_background": "light"
     },
     "output_type": "display_data"
    }
   ],
   "source": [
    "total_birth.plot(figsize=(10,7))\n",
    "plt.xlabel(\"Year \", fontsize=16)\n",
    "plt.ylabel(\"Count (in million)\", fontsize=16)\n",
    "plt.title(\"Total number of births for each Year\", fontsize=20)"
   ]
  },
  {
   "cell_type": "markdown",
   "id": "e8bf7cfc-45dc-485b-8382-f39447205a23",
   "metadata": {},
   "source": [
    "## Task 4\n",
    "Now, create a timeline for your own name. First check if your name occurs at all. If yes, create a table with the columns year and number.\n",
    "\n",
    "You may want to sum up the binary genders or choose one. With few exceptions, the influence on the result is tiny.\n",
    "\n",
    "If your name is not very frequent, there might be missing data for some years. Insert missing data with a 0.\n",
    "\n",
    "Draw a line plot and label the axes."
   ]
  },
  {
   "cell_type": "code",
   "execution_count": null,
   "id": "9c0bb2a9-398e-494b-8fc7-cf4f2660d4b1",
   "metadata": {},
   "outputs": [],
   "source": [
    "# filling missing data with 0\n",
    "concated['Count'].fillna(0, inplace=True)"
   ]
  },
  {
   "cell_type": "code",
   "execution_count": 241,
   "id": "b997eb34-39ff-45e4-be93-aa1b7dc976ff",
   "metadata": {},
   "outputs": [
    {
     "data": {
      "text/plain": [
       "False    2052774\n",
       "True           7\n",
       "Name: Name, dtype: int64"
      ]
     },
     "execution_count": 241,
     "metadata": {},
     "output_type": "execute_result"
    }
   ],
   "source": [
    "# checking the name\n",
    "my_name_count=(concated['Name'] == 'Selva').value_counts()\n",
    "my_name_count"
   ]
  },
  {
   "cell_type": "code",
   "execution_count": 242,
   "id": "b73edb85-06aa-486f-8e23-6219b9778bbc",
   "metadata": {},
   "outputs": [
    {
     "name": "stdout",
     "output_type": "stream",
     "text": [
      "       Name Gender  Count  Year\n",
      "2900  Selva      F     10  1938\n",
      "4180  Selva      F      6  1939\n",
      "5157  Selva      F      6  1949\n",
      "4275  Selva      F      6  1940\n",
      "2181  Selva      F     15  1937\n",
      "4102  Selva      F      6  1936\n",
      "4866  Selva      F      5  1934\n",
      "Year\n",
      "1934     5\n",
      "1936     6\n",
      "1937    15\n",
      "1938    10\n",
      "1939     6\n",
      "1940     6\n",
      "1949     6\n",
      "Name: Count, dtype: int64\n"
     ]
    }
   ],
   "source": [
    "# Creating the table\n",
    "my_name = concated[concated['Name'] == 'Selva']\n",
    "print(my_name)\n",
    "my_name1 = my_name.groupby('Year')['Count'].sum()\n",
    "print(my_name1)"
   ]
  },
  {
   "cell_type": "code",
   "execution_count": 243,
   "id": "b6c0e911-0609-4e47-97c0-5a62c4c6a835",
   "metadata": {},
   "outputs": [
    {
     "data": {
      "text/plain": [
       "Text(0.5, 1.0, 'Total number of births with name \"Selva\"')"
      ]
     },
     "execution_count": 243,
     "metadata": {},
     "output_type": "execute_result"
    },
    {
     "data": {
      "image/png": "[encoded data removed]",
      "text/plain": [
       "<Figure size 720x504 with 1 Axes>"
      ]
     },
     "metadata": {
      "needs_background": "light"
     },
     "output_type": "display_data"
    }
   ],
   "source": [
    "\n",
    "my_name1.plot(figsize=(10,7))\n",
    "plt.xlabel('Year', fontsize=16)\n",
    "plt.ylabel('Count', fontsize=16)\n",
    "plt.title('Total number of births with name \"Selva\"', fontsize=20)\n"
   ]
  },
  {
   "cell_type": "markdown",
   "id": "711fd478-6f58-448c-bf9c-03c206a71718",
   "metadata": {},
   "source": [
    "## Task 5\n",
    "Investigate the popularity of the names of some US celebrities over the last 130 years. Plot a time line with 2-4 names.\n"
   ]
  },
  {
   "cell_type": "code",
   "execution_count": 188,
   "id": "310db763-492e-4c4a-951f-d2ef5e04348a",
   "metadata": {},
   "outputs": [
    {
     "data": {
      "image/png": "[encoded data removed]",
      "text/plain": [
       "<Figure size 432x288 with 1 Axes>"
      ]
     },
     "metadata": {
      "needs_background": "light"
     },
     "output_type": "display_data"
    }
   ],
   "source": [
    "first_name = concated[concated['Name'] == 'Madonna']\n",
    "second_name = concated[concated['Name'] == 'Katrina']\n",
    "third_name = concated[concated['Name'] == 'Lance']\n",
    "fourth_name = concated[concated['Name'] == 'Khaleesi']\n",
    "first_name = first_name.groupby('Year')['Count'].sum()\n",
    "second_name = second_name.groupby('Year')['Count'].sum()\n",
    "third_name = third_name.groupby('Year')['Count'].sum()\n",
    "fourth_name = fourth_name.groupby('Year')['Count'].sum()\n",
    "ax = first_name.plot(label = 'Madonna', xlabel = 'Year', ylabel = 'Count', kind = 'line')\n",
    "second_name.plot(label = 'Katrina', ax=ax)\n",
    "third_name.plot(label = 'Lance', ax=ax)\n",
    "fourth_name.plot(label = 'Khaleesi', ax=ax)\n",
    "plt.legend()\n",
    "plt.title('Total number of births with celebrity names')\n",
    "plt.show()"
   ]
  },
  {
   "cell_type": "markdown",
   "id": "2e83db5d-dd1b-44a5-9936-883f005901a1",
   "metadata": {},
   "source": [
    "## Task 6\n",
    "Finally, we will normalize the data. Repeat Task 4 or 5, but divide the count of a given name by the total number of births of that year.\n",
    "\n",
    "How does the result change and why is this important?\n",
    "\n"
   ]
  },
  {
   "cell_type": "code",
   "execution_count": 251,
   "id": "e235a7bd-03df-431d-b9d8-8c770f103de9",
   "metadata": {},
   "outputs": [
    {
     "data": {
      "image/png": "[encoded data removed]",
      "text/plain": [
       "<Figure size 720x504 with 1 Axes>"
      ]
     },
     "metadata": {
      "needs_background": "light"
     },
     "output_type": "display_data"
    }
   ],
   "source": [
    "# timeline of name \"Selva\" divided by total number of birth\n",
    "norm= my_name.groupby('Year')['Count'].sum()/total_birth\n",
    "\n",
    "# line plot of timeline\n",
    "norm.plot(xlabel = \"Year\",ylabel = \"Count\",figsize=(10,7))\n",
    "plt.title('Total number of births with the name \"Selva\" divided by total number of births')\n",
    "plt.show()\n"
   ]
  },
  {
   "cell_type": "code",
   "execution_count": null,
   "id": "b75f5585-fb46-42f2-9610-457041c2dc7f",
   "metadata": {},
   "outputs": [],
   "source": [
    "Yes, the result has changed. As my name is available in limited count, the very least values gets normalised.."
   ]
  },
  {
   "cell_type": "code",
   "execution_count": null,
   "id": "77c695b1-cdd3-46eb-8f0e-803094dca5ea",
   "metadata": {},
   "outputs": [],
   "source": []
  },
  {
   "cell_type": "code",
   "execution_count": null,
   "id": "4913f607-f9cc-41b8-a891-204e89eefe57",
   "metadata": {},
   "outputs": [],
   "source": []
  }
 ],
 "metadata": {
  "kernelspec": {
   "display_name": "Python 3 (ipykernel)",
   "language": "python",
   "name": "python3"
  },
  "language_info": {
   "codemirror_mode": {
    "name": "ipython",
    "version": 3
   },
   "file_extension": ".py",
   "mimetype": "text/x-python",
   "name": "python",
   "nbconvert_exporter": "python",
   "pygments_lexer": "ipython3",
   "version": "3.9.12"
  }
 },
 "nbformat": 4,
 "nbformat_minor": 5
}
